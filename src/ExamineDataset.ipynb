{
 "cells": [
  {
   "cell_type": "code",
   "execution_count": null,
   "metadata": {},
   "outputs": [],
   "source": [
    "import training\n",
    "import importlib\n",
    "importlib.reload(training.data_prep)\n",
    "\n",
    "# Initialize the DataPrep class and prepare the model\n",
    "process = training.data_prep.DataPrep(\n",
    "    huggingface_token,\n",
    "    dataset_name,\n",
    "    language_abbr,\n",
    "    model_id,\n",
    "    processing_task,\n",
    "    False\n",
    ")\n",
    "ds = process.data_loader.load_dataset()\n",
    "# tokenizer, feature_extractor, feature_processor, model = process.prepare_model()\n",
    "\n",
    "# Load and preprocess the dataset\n",
    "# processed_dataset = process.load_dataset(\n",
    "#     feature_extractor=feature_extractor,\n",
    "#     tokenizer=tokenizer,\n",
    "#     processor=feature_processor,\n",
    "#     streaming=True,\n",
    "#     train_num_samples = 20,\n",
    "#     test_num_samples = 20 )\n"
   ]
  },
  {
   "cell_type": "code",
   "execution_count": null,
   "metadata": {},
   "outputs": [],
   "source": [
    "n = l = 0\n",
    "for x in [*ds['test'], *ds['train']]:\n",
    "    l += len(x['audio']['array']) / x['audio']['sampling_rate']\n",
    "    n += 1\n",
    "print(f'{n} samples, {l} seconds')"
   ]
  },
  {
   "cell_type": "code",
   "execution_count": null,
   "metadata": {},
   "outputs": [],
   "source": [
    "from datasets import load_dataset\n",
    "\n",
    "# Load the Afrikaans subset of Common Voice 17\n",
    "dataset = load_dataset(dataset_name, \"af\",\n",
    "                       split=\"train\", token=huggingface_token,\n",
    "                       trust_remote_code=True)\n",
    "print(len(dataset))\n",
    "# Preview one example\n",
    "# sample = dataset[1]\n",
    "# print(\"Text:\", sample[\"sentence\"])\n",
    "# print(\"Audio file path:\", sample[\"audio\"][\"path\"])\n",
    "\n",
    "# # Download the audio file\n",
    "# import shutil\n",
    "\n",
    "# # Save it locally\n",
    "# shutil.copy(sample[\"audio\"][\"path\"], \"afrikaans_sample.wav\")\n",
    "# print(\"Audio downloaded as afrikaans_sample.wav\")\n"
   ]
  }
 ],
 "metadata": {
  "language_info": {
   "name": "python"
  }
 },
 "nbformat": 4,
 "nbformat_minor": 2
}
